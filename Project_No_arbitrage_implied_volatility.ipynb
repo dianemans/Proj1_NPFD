{
 "cells": [
  {
   "cell_type": "markdown",
   "id": "9d20b2bd",
   "metadata": {},
   "source": [
    "# Course assessment: project part 2 (S. De Marco)\n",
    "\n",
    "## Numerical processing of financial data \n",
    "\n",
    "#### Objective\n",
    "The goal of this project is to fit some implied volatility parametrisations to market option data while studying their no-arbitrage properties.\n",
    "\n",
    "- Please write commented code. You can also use text cells for your comments and explanations.\n",
    "- The code must follow the good coding principles (it must be clean, readable, etc.). \n",
    "- Graphs must have a title, a legend and their axes must be labeled. \n",
    "- At the end, submit your notebooks __and a pdf file of 5 to 8 pages__ into the Moodle Assignment you will find in the section \"Assessment: projects\".\n",
    "This separate pdf file is intended to be a (very) short paper : a standalone document that summarizes the work you have carried out in the notebooks and the results you have obtained (being they positive or negative), with figures. It has to be self-contained in the sense that one has to be able to read your report and understand its content without having to look into your notebooks, which will be checked afterwards. "
   ]
  },
  {
   "cell_type": "markdown",
   "id": "6e02032a",
   "metadata": {},
   "source": [
    "#### Modules\n",
    "\n",
    "Feel free to add any other (open-source) module you need."
   ]
  },
  {
   "cell_type": "code",
   "execution_count": 1,
   "id": "755cb1f5",
   "metadata": {},
   "outputs": [],
   "source": [
    "import numpy as np\n",
    "import matplotlib.pyplot as plt"
   ]
  },
  {
   "cell_type": "markdown",
   "id": "affd517e",
   "metadata": {},
   "source": [
    "## Part 1. The SVI parameterisation for the implied volatility, again"
   ]
  },
  {
   "cell_type": "markdown",
   "id": "214f37be",
   "metadata": {},
   "source": [
    "$\\blacktriangleright$ __New dataset__: we recall that you can download delayed option quotes on the SP500 index from the [CBOE quotes platform](http://www.cboe.com/delayedquote/quote-table) (index symbol: SPX). \n",
    " \n",
    "$\\blacktriangleright$ __TO DO__: In a new notebook, download a new dataset of option prices for one of the available maturities (the classical maturities for SPX options are the third Friday of each month, but you can choose any), filter out quotes that have zero volume, and perform a fitting of the SVI model parameters as done together in class. \n",
    "\n",
    "$\\blacktriangleright$ Notably, try to take into account the no-arbitrage conditions on the implied volatility smile within the parameter learning process (or, at least, after the learning process).\n",
    "\n",
    "If you wish to use a set of option prices on some other asset, this is also possible. In any case, provide the data set file together with your notebook.\n",
    "\n",
    "In the pdf report, explain the procedure you have followed, and present/discuss your results."
   ]
  },
  {
   "cell_type": "markdown",
   "id": "8a4eb7a5",
   "metadata": {},
   "source": [
    "## Part 2. The SSVI (\"surface SVI\") sub-family"
   ]
  },
  {
   "cell_type": "markdown",
   "id": "85d0058a",
   "metadata": {},
   "source": [
    "Below, you will recognize the SSVI parametric model that was introduced in the notebook No_arbitrage_implied_vol.ipynb"
   ]
  },
  {
   "cell_type": "markdown",
   "id": "31146211",
   "metadata": {},
   "source": [
    "The SSVI parameterisation of [Gatheral and Jacquier, 2014](https://papers.ssrn.com/sol3/papers.cfm?abstract_id=2033323) is constructed as follows: first define the\n",
    "\n",
    "### SSVI slice\n",
    "\n",
    "$$\n",
    "w_\\mathrm{SSVI}(k; \\theta, \\varphi, \\rho) = \\frac{\\theta} 2 \\Bigl(1 + \\varphi \\, \\rho k + \\sqrt{(\\varphi \\, k + \\rho)^2 + 1 - \\rho^2} \\Bigr),\n",
    "\\qquad k \\in \\mathbb R\n",
    "$$\n",
    "\n",
    "where \n",
    "\n",
    "$$\n",
    "\\theta \\ge 0, \\qquad \\varphi \\ge 0, \\qquad \\rho \\in (-1,1).\n",
    "$$\n",
    "\n",
    "Note that $w_\\mathrm{SSVI}(k) \\big|_{k=0} = \\theta$, so that the parameter $\\theta$ corresponds to the ATM total variance."
   ]
  },
  {
   "cell_type": "markdown",
   "id": "b7dcf0c9",
   "metadata": {},
   "source": [
    "+ Thanks to the reduced complexity (3 parameters instead of 5), the no-butterfly arbitrage conditions 1) and 3) from the lecture notes on a SSVI slice can be replaced with much simpler conditions on the parameters $(\\theta, \\varphi, \\rho)$, given in [Gatheral and Jacquier 2014], Theorem 4.2, which states that the no-arbitrage conditions 1) and 3) are satisfied if\n",
    "\n",
    "$$\n",
    "\\left\\{\n",
    "\\begin{aligned}\n",
    "&\\theta \\, \\varphi \\, (1+|\\rho|) < 4\n",
    "\\\\\n",
    "&\\theta \\, \\varphi^2 \\, (1+|\\rho|) \\le 4.\n",
    "\\end{aligned}\n",
    "\\right.\n",
    "$$"
   ]
  },
  {
   "cell_type": "markdown",
   "id": "b99a54d6",
   "metadata": {},
   "source": [
    "$\\blacktriangleright$ __TO DO__: perform a fitting of the SSVI slice parameters (as opposed to SVI) to the same market data already used in Part 1 (for the same fixed maturity).\n",
    "\n",
    "Take into account the no-arbitrage conditions on the SSVI parameterisation within (or, at least, after) the parameter learning process. In the pdf report, explain in details the procedure you have followed, and present/discuss your results."
   ]
  },
  {
   "cell_type": "markdown",
   "id": "2554c909",
   "metadata": {},
   "source": [
    "### Full SSVI surface\n",
    "\n",
    "So far, we have only worked with fixed-maturity slices of the implied volatility surface. We haven't defined a function $w_\\mathrm{SSVI}$ of $(T, k)$ yet.\n",
    "\n",
    "Given:\n",
    "\n",
    "+ a curve $T \\mapsto \\theta_T \\ge 0$ (representing at-the-money total implied variance $w(T,0)$ for maturity $T$)\n",
    "\n",
    "\n",
    "+ a function $\\varphi: \\mathbb R_+ \\to \\mathbb R_+$,\n",
    "\n",
    "the full __Surface SVI__ model is defined by\n",
    "\n",
    "$$\n",
    "\\begin{aligned}\n",
    "w_\\mathrm{SSVI}(T, k) \n",
    "&= \n",
    "w_\\mathrm{SSVI}(k; \\ \\theta_{T}, \\ \\varphi(\\theta_T), \\ \\rho) \n",
    "\\\\\n",
    "&= \\frac{\\theta_{T}} 2 \\Bigl(1 + \\varphi(\\theta_{T}) \\rho k + \\sqrt{\\bigl(\\varphi(\\theta_{T}\\bigr) k + \\rho)^2 + 1 - \\rho^2} \\Bigr),\n",
    "\\qquad k \\in \\mathbb R, T > 0.\n",
    "\\end{aligned}\n",
    "$$"
   ]
  },
  {
   "cell_type": "markdown",
   "id": "96a619a9",
   "metadata": {},
   "source": [
    "The no-calendar spread arbitrage condition we have seen in the lectures:\n",
    "  \n",
    "2) The function $T \\mapsto w_\\mathrm{SSVI}(T, k) $ is increasing, for every $k \\in \\mathbb R$,\n",
    "\n",
    "can also be reformulated as a simple tractable condition on the functions $\\theta_\\cdot$ and $\\varphi(\\cdot)$, see [Gatheral and Jacquier 2014], Theorem 4.1:\n",
    "\n",
    "$$\n",
    "\\left\\{\n",
    "\\begin{aligned}\n",
    "&T \\mapsto \\theta_T \\mbox{ is increasing }\n",
    "\\\\\n",
    "&0 \n",
    "\\le\n",
    "\\partial_\\theta (\\theta \\, \\varphi(\\theta))\n",
    "\\le\n",
    "\\frac1{\\rho^2} \\left(1+ \\sqrt{1-\\rho^2}\\right) \\varphi(\\theta) \\qquad \\forall \\theta,\n",
    "\\end{aligned}\n",
    "\\right.\n",
    "$$\n",
    "\n",
    "where, in the second line, we have supposed that the functions $\\theta_\\cdot$ and $\\varphi(\\cdot)$ are differentiable.\n",
    "\n",
    "[Gatheral and Jacquier 2014] also provide parametric examples of functions $T \\mapsto \\theta_T$ and $\\theta \\mapsto \\varphi(\\theta)$ that satisfy the no-calendar spread arbitrage condition above (but you can still try to desing your own, based on the observation of market data)."
   ]
  },
  {
   "cell_type": "markdown",
   "id": "78f8f3c5",
   "metadata": {},
   "source": [
    "$\\blacktriangleright$ __TO DO__: dowload and use option data for at least two different maturities $T_1$ and $T_2$ (or more if you wish), observed at the same date $t$. Make a parametric choice for the functions $T \\mapsto \\theta_T$ and $\\theta \\mapsto \\varphi(\\theta)$ and then perform a fitting of the full SSVI surface model $w_\\mathrm{SSVI}(T, k)$ to your target maturities.\n",
    "\n",
    "Take into account the no-arbitrage conditions on SSVI within (or, at least, after) the parameter learning process. In the pdf report, explain in details the procedure you have followed, and present/discuss your results."
   ]
  }
 ],
 "metadata": {
  "kernelspec": {
   "display_name": "Python [conda env:base] *",
   "language": "python",
   "name": "conda-base-py"
  },
  "language_info": {
   "codemirror_mode": {
    "name": "ipython",
    "version": 3
   },
   "file_extension": ".py",
   "mimetype": "text/x-python",
   "name": "python",
   "nbconvert_exporter": "python",
   "pygments_lexer": "ipython3",
   "version": "3.12.7"
  }
 },
 "nbformat": 4,
 "nbformat_minor": 5
}
