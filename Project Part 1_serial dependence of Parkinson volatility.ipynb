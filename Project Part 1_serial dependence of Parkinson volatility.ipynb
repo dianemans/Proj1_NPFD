{
 "cells": [
  {
   "cell_type": "markdown",
   "metadata": {
    "id": "gC2gdBk-RPOK"
   },
   "source": [
    "# Course assessment: project part 1 (M. Garcin)\n",
    "\n",
    "## Numerical processing of financial data\n",
    "\n",
    "#### Objective\n",
    "The goal of this project is to assess the existence of serial information in a time series of prices and in a time series of volatilities.\n",
    "\n",
    "- Please write commented code. You can also use text cells for your comments and explanations.\n",
    "- The code must follow the good coding principles (it must be clean, readable, etc.).\n",
    "- Graphs must have a title, a legend and their axes must be labeled.\n",
    "- At the end, submit your notebooks __and a pdf file of 5 to 8 pages__ into the Moodle Assignment you will find in the section \"Assessment: projects\".\n",
    "This separate pdf file is intended to be a (very) short paper : a standalone document that summarizes the work you have carried out in the notebooks and the results you have obtained (being they positive or negative), with figures. It has to be self-contained in the sense that one has to be able to read your report and understand its content without having to look into your notebooks, which will be checked afterwards.\n"
   ]
  },
  {
   "cell_type": "code",
   "execution_count": null,
   "metadata": {
    "id": "sJD2OKjFRPOP"
   },
   "outputs": [],
   "source": [
    "import numpy as np\n",
    "import pandas as pd\n",
    "import matplotlib.pyplot as plt\n",
    "import scipy.stats as stats"
   ]
  },
  {
   "cell_type": "markdown",
   "metadata": {
    "id": "W9MA7MRnqKxF"
   },
   "source": [
    "# Dataset\n",
    "\n",
    "You will use the dataset (Excel files) of one-minute observations (OHLC prices) provided in Moodle for TP1 (Session 1). The dataset consists in the 40 constituents of the French stock index CAC 40 (as of 2022/2023). The biggest capitalizations are: LVMH (MC), L'Oréal (OR), TotalEnergies (TTE), Sanofi (SAN), Hermès (RMS), Airbus (AIR)... You have to choose one of these stocks and work with it for all the project.\n",
    "\n",
    "The time range is September 2022-March 2023. Pay attention to the fact that some stocks don't have a price every minute (less liquid, like SW): avoid them.\n",
    "\n"
   ]
  },
  {
   "cell_type": "code",
   "execution_count": 2,
   "metadata": {},
   "outputs": [
    {
     "data": {
      "text/html": [
       "<div>\n",
       "<style scoped>\n",
       "    .dataframe tbody tr th:only-of-type {\n",
       "        vertical-align: middle;\n",
       "    }\n",
       "\n",
       "    .dataframe tbody tr th {\n",
       "        vertical-align: top;\n",
       "    }\n",
       "\n",
       "    .dataframe thead th {\n",
       "        text-align: right;\n",
       "    }\n",
       "</style>\n",
       "<table border=\"1\" class=\"dataframe\">\n",
       "  <thead>\n",
       "    <tr style=\"text-align: right;\">\n",
       "      <th></th>\n",
       "      <th>Dates</th>\n",
       "      <th>Open</th>\n",
       "      <th>Close</th>\n",
       "      <th>High</th>\n",
       "      <th>Low</th>\n",
       "    </tr>\n",
       "  </thead>\n",
       "  <tbody>\n",
       "    <tr>\n",
       "      <th>0</th>\n",
       "      <td>2022-09-13 09:00:00</td>\n",
       "      <td>100.24</td>\n",
       "      <td>100.28</td>\n",
       "      <td>100.38</td>\n",
       "      <td>100.14</td>\n",
       "    </tr>\n",
       "    <tr>\n",
       "      <th>1</th>\n",
       "      <td>2022-09-13 09:01:00</td>\n",
       "      <td>100.26</td>\n",
       "      <td>100.26</td>\n",
       "      <td>100.36</td>\n",
       "      <td>100.22</td>\n",
       "    </tr>\n",
       "    <tr>\n",
       "      <th>2</th>\n",
       "      <td>2022-09-13 09:02:00</td>\n",
       "      <td>100.24</td>\n",
       "      <td>100.24</td>\n",
       "      <td>100.26</td>\n",
       "      <td>100.22</td>\n",
       "    </tr>\n",
       "    <tr>\n",
       "      <th>3</th>\n",
       "      <td>2022-09-13 09:03:00</td>\n",
       "      <td>100.22</td>\n",
       "      <td>100.26</td>\n",
       "      <td>100.28</td>\n",
       "      <td>100.12</td>\n",
       "    </tr>\n",
       "    <tr>\n",
       "      <th>4</th>\n",
       "      <td>2022-09-13 09:04:00</td>\n",
       "      <td>100.22</td>\n",
       "      <td>100.26</td>\n",
       "      <td>100.26</td>\n",
       "      <td>100.20</td>\n",
       "    </tr>\n",
       "  </tbody>\n",
       "</table>\n",
       "</div>"
      ],
      "text/plain": [
       "                Dates    Open   Close    High     Low\n",
       "0 2022-09-13 09:00:00  100.24  100.28  100.38  100.14\n",
       "1 2022-09-13 09:01:00  100.26  100.26  100.36  100.22\n",
       "2 2022-09-13 09:02:00  100.24  100.24  100.26  100.22\n",
       "3 2022-09-13 09:03:00  100.22  100.26  100.28  100.12\n",
       "4 2022-09-13 09:04:00  100.22  100.26  100.26  100.20"
      ]
     },
     "execution_count": 2,
     "metadata": {},
     "output_type": "execute_result"
    }
   ],
   "source": [
    "data_AIR = pd.read_excel('AIR_prices.xlsx', engine='openpyxl', header=1)\n",
    "data_AIR.head()"
   ]
  },
  {
   "cell_type": "markdown",
   "metadata": {},
   "source": [
    "Let's prepare the dataset for the incoming analysis - splitting the date and computing the return"
   ]
  },
  {
   "cell_type": "code",
   "execution_count": 3,
   "metadata": {},
   "outputs": [
    {
     "data": {
      "text/html": [
       "<div>\n",
       "<style scoped>\n",
       "    .dataframe tbody tr th:only-of-type {\n",
       "        vertical-align: middle;\n",
       "    }\n",
       "\n",
       "    .dataframe tbody tr th {\n",
       "        vertical-align: top;\n",
       "    }\n",
       "\n",
       "    .dataframe thead th {\n",
       "        text-align: right;\n",
       "    }\n",
       "</style>\n",
       "<table border=\"1\" class=\"dataframe\">\n",
       "  <thead>\n",
       "    <tr style=\"text-align: right;\">\n",
       "      <th></th>\n",
       "      <th>Dates</th>\n",
       "      <th>Open</th>\n",
       "      <th>Close</th>\n",
       "      <th>High</th>\n",
       "      <th>Low</th>\n",
       "      <th>Date only</th>\n",
       "      <th>Hour_Minute</th>\n",
       "      <th>Return</th>\n",
       "    </tr>\n",
       "  </thead>\n",
       "  <tbody>\n",
       "    <tr>\n",
       "      <th>0</th>\n",
       "      <td>2022-09-13 09:00:00</td>\n",
       "      <td>100.24</td>\n",
       "      <td>100.28</td>\n",
       "      <td>100.38</td>\n",
       "      <td>100.14</td>\n",
       "      <td>2022-09-13</td>\n",
       "      <td>09:00</td>\n",
       "      <td>NaN</td>\n",
       "    </tr>\n",
       "    <tr>\n",
       "      <th>1</th>\n",
       "      <td>2022-09-13 09:01:00</td>\n",
       "      <td>100.26</td>\n",
       "      <td>100.26</td>\n",
       "      <td>100.36</td>\n",
       "      <td>100.22</td>\n",
       "      <td>2022-09-13</td>\n",
       "      <td>09:01</td>\n",
       "      <td>-0.000199</td>\n",
       "    </tr>\n",
       "    <tr>\n",
       "      <th>2</th>\n",
       "      <td>2022-09-13 09:02:00</td>\n",
       "      <td>100.24</td>\n",
       "      <td>100.24</td>\n",
       "      <td>100.26</td>\n",
       "      <td>100.22</td>\n",
       "      <td>2022-09-13</td>\n",
       "      <td>09:02</td>\n",
       "      <td>-0.000199</td>\n",
       "    </tr>\n",
       "    <tr>\n",
       "      <th>3</th>\n",
       "      <td>2022-09-13 09:03:00</td>\n",
       "      <td>100.22</td>\n",
       "      <td>100.26</td>\n",
       "      <td>100.28</td>\n",
       "      <td>100.12</td>\n",
       "      <td>2022-09-13</td>\n",
       "      <td>09:03</td>\n",
       "      <td>0.000200</td>\n",
       "    </tr>\n",
       "    <tr>\n",
       "      <th>4</th>\n",
       "      <td>2022-09-13 09:04:00</td>\n",
       "      <td>100.22</td>\n",
       "      <td>100.26</td>\n",
       "      <td>100.26</td>\n",
       "      <td>100.20</td>\n",
       "      <td>2022-09-13</td>\n",
       "      <td>09:04</td>\n",
       "      <td>0.000000</td>\n",
       "    </tr>\n",
       "  </tbody>\n",
       "</table>\n",
       "</div>"
      ],
      "text/plain": [
       "                Dates    Open   Close    High     Low   Date only Hour_Minute  \\\n",
       "0 2022-09-13 09:00:00  100.24  100.28  100.38  100.14  2022-09-13       09:00   \n",
       "1 2022-09-13 09:01:00  100.26  100.26  100.36  100.22  2022-09-13       09:01   \n",
       "2 2022-09-13 09:02:00  100.24  100.24  100.26  100.22  2022-09-13       09:02   \n",
       "3 2022-09-13 09:03:00  100.22  100.26  100.28  100.12  2022-09-13       09:03   \n",
       "4 2022-09-13 09:04:00  100.22  100.26  100.26  100.20  2022-09-13       09:04   \n",
       "\n",
       "     Return  \n",
       "0       NaN  \n",
       "1 -0.000199  \n",
       "2 -0.000199  \n",
       "3  0.000200  \n",
       "4  0.000000  "
      ]
     },
     "execution_count": 3,
     "metadata": {},
     "output_type": "execute_result"
    }
   ],
   "source": [
    "data_AIR['Date only'] = data_AIR['Dates'].dt.date\n",
    "data_AIR['Hour_Minute'] = data_AIR['Dates'].dt.strftime('%H:%M')\n",
    "data_AIR['Return'] = data_AIR['Close'].pct_change()\n",
    "data_AIR.head()"
   ]
  },
  {
   "cell_type": "markdown",
   "metadata": {},
   "source": [
    "Let's determine how many minutes do we have in a trading day."
   ]
  },
  {
   "cell_type": "code",
   "execution_count": 4,
   "metadata": {},
   "outputs": [
    {
     "data": {
      "text/html": [
       "<div>\n",
       "<style scoped>\n",
       "    .dataframe tbody tr th:only-of-type {\n",
       "        vertical-align: middle;\n",
       "    }\n",
       "\n",
       "    .dataframe tbody tr th {\n",
       "        vertical-align: top;\n",
       "    }\n",
       "\n",
       "    .dataframe thead th {\n",
       "        text-align: right;\n",
       "    }\n",
       "</style>\n",
       "<table border=\"1\" class=\"dataframe\">\n",
       "  <thead>\n",
       "    <tr style=\"text-align: right;\">\n",
       "      <th></th>\n",
       "      <th>First_Minute</th>\n",
       "      <th>Last_Minute</th>\n",
       "    </tr>\n",
       "    <tr>\n",
       "      <th>Date only</th>\n",
       "      <th></th>\n",
       "      <th></th>\n",
       "    </tr>\n",
       "  </thead>\n",
       "  <tbody>\n",
       "    <tr>\n",
       "      <th>2022-09-13</th>\n",
       "      <td>09:00</td>\n",
       "      <td>17:35</td>\n",
       "    </tr>\n",
       "    <tr>\n",
       "      <th>2022-09-14</th>\n",
       "      <td>09:00</td>\n",
       "      <td>17:37</td>\n",
       "    </tr>\n",
       "    <tr>\n",
       "      <th>2022-09-15</th>\n",
       "      <td>09:00</td>\n",
       "      <td>17:35</td>\n",
       "    </tr>\n",
       "    <tr>\n",
       "      <th>2022-09-16</th>\n",
       "      <td>09:00</td>\n",
       "      <td>17:39</td>\n",
       "    </tr>\n",
       "    <tr>\n",
       "      <th>2022-09-19</th>\n",
       "      <td>09:00</td>\n",
       "      <td>17:37</td>\n",
       "    </tr>\n",
       "  </tbody>\n",
       "</table>\n",
       "</div>"
      ],
      "text/plain": [
       "           First_Minute Last_Minute\n",
       "Date only                          \n",
       "2022-09-13        09:00       17:35\n",
       "2022-09-14        09:00       17:37\n",
       "2022-09-15        09:00       17:35\n",
       "2022-09-16        09:00       17:39\n",
       "2022-09-19        09:00       17:37"
      ]
     },
     "execution_count": 4,
     "metadata": {},
     "output_type": "execute_result"
    }
   ],
   "source": [
    "# Group by 'Date only' and get the first and last minute for each date\n",
    "first_last_minutes = data_AIR.groupby('Date only').agg({'Hour_Minute': ['first', 'last']})\n",
    "\n",
    "# Flatten the MultiIndex columns\n",
    "first_last_minutes.columns = ['First_Minute', 'Last_Minute']\n",
    "\n",
    "first_last_minutes.head()"
   ]
  },
  {
   "cell_type": "markdown",
   "metadata": {},
   "source": [
    "We can consider that the last minute of the trading day is 17:35."
   ]
  },
  {
   "cell_type": "code",
   "execution_count": 5,
   "metadata": {},
   "outputs": [
    {
     "name": "stdout",
     "output_type": "stream",
     "text": [
      "1 trading day has 515 minutes\n"
     ]
    }
   ],
   "source": [
    "# Calculate the number of minute per day\n",
    "minutes_per_day = 60 * 8 + 35\n",
    "print(f'1 trading day has {minutes_per_day} minutes')"
   ]
  },
  {
   "cell_type": "markdown",
   "metadata": {
    "id": "3qyxBeG0shTd"
   },
   "source": [
    "# Parkinson volatility (Part 1)\n",
    "\n",
    "We are interested in the two estimators\n",
    "$$\\widehat{D_{1,n}}=\\frac{1}{n\\sqrt{\\tau}}\\sum_{i=1}^n d_{(i-1)\\tau,i\\tau}\\sqrt{\\frac{\\pi}{8}}$$\n",
    "and\n",
    "$$\\widehat{D_{2,n}}=\\left(\\frac{1}{n\\sqrt{\\tau}}\\sum_{i=1}^n d^2_{(i-1)\\tau,i\\tau}\\frac{1}{4\\ln(2)}\\right)^{1/2},$$\n",
    "where $d_{(i-1)\\tau,i\\tau}$ is the log high-low range (if necessary, see the first part of the course, from page 12).\n",
    "\n",
    "* **1.a/** Write a function calculating the Parkinson annualized volatility $\\widehat{D_{1,n}}$ of your asset using high-low ranges at a 1-minute interval.\n",
    "\n",
    "* **1.b/** Do the same for the estimator $\\widehat{D_{2,n}}$.\n",
    "\n",
    "* **1.c/** Plot the two time series of Parkinson volatilities.\n",
    "\n"
   ]
  },
  {
   "cell_type": "markdown",
   "metadata": {},
   "source": [
    "1.a/ Write a function calculating the Parkinson annualized volatility $\\widehat{D_{1,n}}$ of your asset using high-low ranges at a 1-minute interval."
   ]
  },
  {
   "cell_type": "markdown",
   "metadata": {},
   "source": [
    "Let's create a log high-low range column at the 1-minute interval"
   ]
  },
  {
   "cell_type": "code",
   "execution_count": 6,
   "metadata": {},
   "outputs": [
    {
     "data": {
      "text/html": [
       "<div>\n",
       "<style scoped>\n",
       "    .dataframe tbody tr th:only-of-type {\n",
       "        vertical-align: middle;\n",
       "    }\n",
       "\n",
       "    .dataframe tbody tr th {\n",
       "        vertical-align: top;\n",
       "    }\n",
       "\n",
       "    .dataframe thead th {\n",
       "        text-align: right;\n",
       "    }\n",
       "</style>\n",
       "<table border=\"1\" class=\"dataframe\">\n",
       "  <thead>\n",
       "    <tr style=\"text-align: right;\">\n",
       "      <th></th>\n",
       "      <th>Dates</th>\n",
       "      <th>Open</th>\n",
       "      <th>Close</th>\n",
       "      <th>High</th>\n",
       "      <th>Low</th>\n",
       "      <th>Date only</th>\n",
       "      <th>Hour_Minute</th>\n",
       "      <th>Return</th>\n",
       "      <th>lg_HL_range</th>\n",
       "    </tr>\n",
       "  </thead>\n",
       "  <tbody>\n",
       "    <tr>\n",
       "      <th>0</th>\n",
       "      <td>2022-09-13 09:00:00</td>\n",
       "      <td>100.24</td>\n",
       "      <td>100.28</td>\n",
       "      <td>100.38</td>\n",
       "      <td>100.14</td>\n",
       "      <td>2022-09-13</td>\n",
       "      <td>09:00</td>\n",
       "      <td>NaN</td>\n",
       "      <td>0.002394</td>\n",
       "    </tr>\n",
       "    <tr>\n",
       "      <th>1</th>\n",
       "      <td>2022-09-13 09:01:00</td>\n",
       "      <td>100.26</td>\n",
       "      <td>100.26</td>\n",
       "      <td>100.36</td>\n",
       "      <td>100.22</td>\n",
       "      <td>2022-09-13</td>\n",
       "      <td>09:01</td>\n",
       "      <td>-0.000199</td>\n",
       "      <td>0.001396</td>\n",
       "    </tr>\n",
       "    <tr>\n",
       "      <th>2</th>\n",
       "      <td>2022-09-13 09:02:00</td>\n",
       "      <td>100.24</td>\n",
       "      <td>100.24</td>\n",
       "      <td>100.26</td>\n",
       "      <td>100.22</td>\n",
       "      <td>2022-09-13</td>\n",
       "      <td>09:02</td>\n",
       "      <td>-0.000199</td>\n",
       "      <td>0.000399</td>\n",
       "    </tr>\n",
       "    <tr>\n",
       "      <th>3</th>\n",
       "      <td>2022-09-13 09:03:00</td>\n",
       "      <td>100.22</td>\n",
       "      <td>100.26</td>\n",
       "      <td>100.28</td>\n",
       "      <td>100.12</td>\n",
       "      <td>2022-09-13</td>\n",
       "      <td>09:03</td>\n",
       "      <td>0.000200</td>\n",
       "      <td>0.001597</td>\n",
       "    </tr>\n",
       "    <tr>\n",
       "      <th>4</th>\n",
       "      <td>2022-09-13 09:04:00</td>\n",
       "      <td>100.22</td>\n",
       "      <td>100.26</td>\n",
       "      <td>100.26</td>\n",
       "      <td>100.20</td>\n",
       "      <td>2022-09-13</td>\n",
       "      <td>09:04</td>\n",
       "      <td>0.000000</td>\n",
       "      <td>0.000599</td>\n",
       "    </tr>\n",
       "  </tbody>\n",
       "</table>\n",
       "</div>"
      ],
      "text/plain": [
       "                Dates    Open   Close    High     Low   Date only Hour_Minute  \\\n",
       "0 2022-09-13 09:00:00  100.24  100.28  100.38  100.14  2022-09-13       09:00   \n",
       "1 2022-09-13 09:01:00  100.26  100.26  100.36  100.22  2022-09-13       09:01   \n",
       "2 2022-09-13 09:02:00  100.24  100.24  100.26  100.22  2022-09-13       09:02   \n",
       "3 2022-09-13 09:03:00  100.22  100.26  100.28  100.12  2022-09-13       09:03   \n",
       "4 2022-09-13 09:04:00  100.22  100.26  100.26  100.20  2022-09-13       09:04   \n",
       "\n",
       "     Return  lg_HL_range  \n",
       "0       NaN     0.002394  \n",
       "1 -0.000199     0.001396  \n",
       "2 -0.000199     0.000399  \n",
       "3  0.000200     0.001597  \n",
       "4  0.000000     0.000599  "
      ]
     },
     "execution_count": 6,
     "metadata": {},
     "output_type": "execute_result"
    }
   ],
   "source": [
    "data_AIR['lg_HL_range'] = np.log(data_AIR['High'] / data_AIR['Low'])\n",
    "data_AIR.head()"
   ]
  },
  {
   "cell_type": "markdown",
   "metadata": {},
   "source": [
    "Now, let's define our D1 daily Parkinson volatility function"
   ]
  },
  {
   "cell_type": "code",
   "execution_count": 7,
   "metadata": {},
   "outputs": [],
   "source": [
    "def calculate_D1_annualized_daily_parkinson_volatility(df, interval_per_year=252):\n",
    "    \"\"\"\n",
    "    Calculate the annualized Parkinson volatility as a time series over the days in the dataset.\n",
    "\n",
    "    Parameters:\n",
    "    - df: DataFrame containing the 'lg_HL_range' and 'Date only' columns.\n",
    "    - interval_per_year: Number of intervals per year (default is 252 for daily data).\n",
    "\n",
    "    Returns:\n",
    "    - A Series with the annualized Parkinson volatility for each day.\n",
    "    \"\"\"\n",
    "    # Group by 'Date only'\n",
    "    grouped = df.groupby('Date only')['lg_HL_range']\n",
    "\n",
    "    # Calculate the Parkinson volatility for each day using the formula for D1\n",
    "    daily_volatility = grouped.apply(\n",
    "        lambda x: (1 / (len(x) * np.sqrt(1 / interval_per_year))) *\n",
    "                  x.sum() * np.sqrt(np.pi / 8)\n",
    "    )\n",
    "\n",
    "    annualized_volatility = daily_volatility * np.sqrt(interval_per_year)\n",
    "\n",
    "    return annualized_volatility"
   ]
  },
  {
   "cell_type": "code",
   "execution_count": 8,
   "metadata": {},
   "outputs": [],
   "source": [
    "D1_parkinson_vol = calculate_D1_annualized_daily_parkinson_volatility(data_AIR)"
   ]
  },
  {
   "cell_type": "markdown",
   "metadata": {},
   "source": [
    "1.b/ Do the same for the estimator $\\widehat{D_{2,n}}$."
   ]
  },
  {
   "cell_type": "code",
   "execution_count": 9,
   "metadata": {},
   "outputs": [],
   "source": [
    "def calculate_D2_annualized_daily_parkinson_volatility(df, interval_per_year=252):\n",
    "    \"\"\"\n",
    "    Calculate the annualized Parkinson volatility (D2) as a time series over the days in the dataset.\n",
    "\n",
    "    Parameters:\n",
    "    - df: DataFrame containing the 'lg_HL_range' and 'Date only' columns.\n",
    "    - interval_per_year: Number of intervals per year (default is 252 for daily data).\n",
    "\n",
    "    Returns:\n",
    "    - A Series with the annualized Parkinson volatility (D2) for each day.\n",
    "    \"\"\"\n",
    "    # Group by 'Date only'\n",
    "    grouped = df.groupby('Date only')['lg_HL_range']\n",
    "\n",
    "    # Calculate the Parkinson volatility (D2) for each day using the formula for D2\n",
    "    daily_volatility = grouped.apply(\n",
    "        lambda x: np.sqrt(\n",
    "            (1 / (len(x) * np.sqrt(1 / interval_per_year))) *\n",
    "            (x ** 2).sum() / (4 * np.log(2))\n",
    "        )\n",
    "    )\n",
    "\n",
    "    # Annualize the volatility\n",
    "    annualized_volatility = daily_volatility * np.sqrt(interval_per_year)\n",
    "\n",
    "    return annualized_volatility"
   ]
  },
  {
   "cell_type": "code",
   "execution_count": 10,
   "metadata": {},
   "outputs": [],
   "source": [
    "D2_parkinson_vol = calculate_D2_annualized_daily_parkinson_volatility(data_AIR)"
   ]
  },
  {
   "cell_type": "markdown",
   "metadata": {},
   "source": [
    "1.c/ Plot the two time series of Parkinson volatilities."
   ]
  },
  {
   "cell_type": "code",
   "execution_count": 11,
   "metadata": {},
   "outputs": [
    {
     "data": {
      "text/plain": [
       "<matplotlib.legend.Legend at 0x267f0cf4260>"
      ]
     },
     "execution_count": 11,
     "metadata": {},
     "output_type": "execute_result"
    },
    {
     "data": {
      "image/png": "[encoded data removed]",
      "text/plain": [
       "<Figure size 640x480 with 1 Axes>"
      ]
     },
     "metadata": {},
     "output_type": "display_data"
    }
   ],
   "source": [
    "plt.plot(D1_parkinson_vol, label='D1 Parkinson Volatility')\n",
    "plt.plot(D2_parkinson_vol, label='D2 Parkinson Volatility')\n",
    "plt.title('D1 and D2 Annualized Parkinson Volatility for Air France')\n",
    "plt.xlabel('Date')\n",
    "plt.ylabel('Annualized Parkinson volatility')\n",
    "plt.legend()"
   ]
  },
  {
   "cell_type": "markdown",
   "metadata": {
    "id": "oxg8jSDSOLEy"
   },
   "source": [
    "# Serial information (Part 2)\n",
    "\n",
    "We are interested in the serial information of two financial daily time series: price returns and volatilities.\n",
    "\n",
    "In order to get the serial information (if necessary, read again the first part of the course, from page 22), we need several functions.\n",
    "\n",
    "First, we need Gray's binary code.\n",
    "Indeed, for a given length $L<n$, $2^L$ binary sequences (of 0s and 1s) are possible. Gray's binary code makes it possible to order them (Gray's code is the index $i$ in the following vectors $G^L_i$). If $L=3$, the 8 sequences are $(G^3_1,...,G^3_8)=((0,0,0),(0,0,1),(0,1,1),(0,1,0),(1,1,0),(1,0,0),(1,0,1),(1,1,1))$.\n",
    "\n",
    "We provide below the function returning Gray's binary code."
   ]
  },
  {
   "cell_type": "code",
   "execution_count": 12,
   "metadata": {
    "id": "j_tmiCZnCAhE"
   },
   "outputs": [],
   "source": [
    "def binary_Gray_code(binary_array):\n",
    "    # binary_array contains a binarized sequence of returns\n",
    "    res = 0\n",
    "    for val in binary_array:\n",
    "        res = 2 * res + val\n",
    "    return res"
   ]
  },
  {
   "cell_type": "markdown",
   "metadata": {
    "id": "L4g0xy3ICCzf"
   },
   "source": [
    "* **2.a/** Write a function returning the empirical estimator of the probability $p_i^L$ of sub-series of length $L$:\n",
    "$$p^L_i=\\mathbb P((X_{.},X_{.+1},...,X_{.+L-1})=G^L_i).$$\n",
    "The arguments of this function are:\n",
    "  * time_series, an array containing all the binarized 1-minute price returns (so it is a sequence containing 0s and 1s),\n",
    "  * $L$, the length of the sub-series to be considered; these sub-series are all the sub-series of consecutive observations in the array time_series.\n",
    "\n",
    "* **2.b/** Write a function returning the entropy $H^L$:\n",
    "$$H^L=-\\sum_{i=1}^{2^L} p^L_i\\log_2\\left(p^L_i\\right).$$\n",
    "\n",
    "* **2.c/** Write a function returning the serial information $I^{L+1}=1+H^L-H^{L+1}$, for $L\\in [\\![1,L^{\\max}]\\!]$. The two arguments of this function are time_series and $L^{\\max}$."
   ]
  },
  {
   "cell_type": "markdown",
   "metadata": {
    "id": "gzoPl8BkCUNS"
   },
   "source": [
    "* **2.d/** Write a function returning the asymptotic confidence bound for a zero serial information, using the Gamma distribution presented in the course: we recall that under the assumption of serial independence, $\\widehat{I^{L+1}_n}$ follows a gamma distribution $\\Gamma(k,\\theta)$ of shape parameter $k=2^{L-1}$ and scale parameter $\\theta=1/\\ln\\left(2\\right)n$. The arguments of the function are:\n",
    "  * $L$,\n",
    "  * $n$,\n",
    "  * a significance level $\\alpha$, equal by default to 0.95."
   ]
  },
  {
   "cell_type": "markdown",
   "metadata": {
    "id": "IKbah89OBugY"
   },
   "source": [
    "* **2.e/** From your one-minute dataset of close prices of a stock, build a time series of daily price returns (between two consecutive ends of days). Apply the above functions to calculate the serial information of this time series. Plot this information as a function of $L$, with $L^{\\text{max}}=6$. Is there any statistically significant serial information?\n",
    "\n"
   ]
  },
  {
   "cell_type": "markdown",
   "metadata": {
    "id": "0coTmgJIMrJA"
   },
   "source": [
    "* **2.f/** Calculate the serial information of the time series of daily log-variations of one of the two Parkinson volatilities. Plot this information as a function of $L$, with $L^{\\text{max}}=6$. Is there any statistically significant serial information?\n"
   ]
  },
  {
   "cell_type": "markdown",
   "metadata": {},
   "source": [
    "## Answers"
   ]
  },
  {
   "cell_type": "markdown",
   "metadata": {},
   "source": [
    "2.a/ Write a function returning the empirical estimator of the probability $p_i^L$ of sub-series of length $L$:\n",
    "$$p^L_i=\\mathbb P((X_{.},X_{.+1},...,X_{.+L-1})=G^L_i).$$\n",
    "The arguments of this function are:\n",
    "  * time_series, an array containing all the binarized 1-minute price returns (so it is a sequence containing 0s and 1s),\n",
    "  * $L$, the length of the sub-series to be considered; these sub-series are all the sub-series of consecutive observations in the array time_series."
   ]
  },
  {
   "cell_type": "code",
   "execution_count": 13,
   "metadata": {},
   "outputs": [],
   "source": [
    "def empirical_probability_subseries(time_series, L):\n",
    "    \"\"\"\n",
    "    Calculate the empirical probability of each sub-series of length L in a binarized time series.\n",
    "\n",
    "    Parameters:\n",
    "    - time_series: An array containing all the binarized 1-minute price returns (0s and 1s).\n",
    "    - L: The length of the sub-series to be considered.\n",
    "\n",
    "    Returns:\n",
    "    - A dictionary with Gray code indices as keys and their empirical probabilities as values.\n",
    "    \"\"\"\n",
    "\n",
    "    # Check if the length of the time series is less than L\n",
    "    if len(time_series) < L:\n",
    "        print(f\"Warning: The length of the time series ({len(time_series)}) is less than L ({L}). Cannot compute probabilities.\")\n",
    "        return {}\n",
    "    \n",
    "    # Initialize a dictionary to store the count of each sub-series\n",
    "    subseries_count = {}\n",
    "\n",
    "    # Iterate over the time series to extract sub-series of length L\n",
    "    for i in range(len(time_series) - L + 1):\n",
    "        sub_series = time_series[i:i + L]\n",
    "        gray_code = binary_Gray_code(sub_series)\n",
    "\n",
    "        if gray_code in subseries_count:\n",
    "            subseries_count[gray_code] += 1\n",
    "        else:\n",
    "            subseries_count[gray_code] = 1\n",
    "\n",
    "    # Calculate the total number of sub-series\n",
    "    total_subseries = len(time_series) - L + 1\n",
    "\n",
    "    # Calculate the empirical probability for each sub-series\n",
    "    empirical_probabilities = {k: v / total_subseries for k, v in subseries_count.items()}\n",
    "\n",
    "    return empirical_probabilities"
   ]
  },
  {
   "cell_type": "markdown",
   "metadata": {},
   "source": [
    "2.b/ Write a function returning the entropy $H^L$:\n",
    "$$H^L=-\\sum_{i=1}^{2^L} p^L_i\\log_2\\left(p^L_i\\right).$$"
   ]
  },
  {
   "cell_type": "code",
   "execution_count": 14,
   "metadata": {},
   "outputs": [],
   "source": [
    "def calculate_entropy(empirical_probabilities):\n",
    "    \"\"\"\n",
    "    Calculate the entropy H^L given the empirical probabilities of sub-series of length L.\n",
    "\n",
    "    Parameters:\n",
    "    - empirical_probabilities: A dictionary with Gray code indices as keys and their empirical probabilities as values.\n",
    "\n",
    "    Returns:\n",
    "    - The entropy H^L.\n",
    "    \"\"\"\n",
    "    entropy = 0.0\n",
    "\n",
    "    for probability in empirical_probabilities.values():\n",
    "        if probability > 0:  # Avoid log(0)\n",
    "            entropy -= probability * np.log2(probability)\n",
    "\n",
    "    return entropy"
   ]
  },
  {
   "cell_type": "markdown",
   "metadata": {},
   "source": [
    "2.c/ Write a function returning the serial information $I^{L+1}=1+H^L-H^{L+1}$, for $L\\in [\\![1,L^{\\max}]\\!]$. The two arguments of this function are time_series and $L^{\\max}$."
   ]
  },
  {
   "cell_type": "code",
   "execution_count": 15,
   "metadata": {},
   "outputs": [],
   "source": [
    "def calculate_serial_information(time_series, L_max):\n",
    "    \"\"\"\n",
    "    Calculate the serial information I^{L+1} for L in the range [1, L_max].\n",
    "\n",
    "    Parameters:\n",
    "    - time_series: An array containing all the binarized 1-minute price returns (0s and 1s).\n",
    "    - L_max: The maximum length of the sub-series to be considered.\n",
    "\n",
    "    Returns:\n",
    "    - A dictionary with keys as the values of L and values as the corresponding serial information I^{L+1}.\n",
    "    \"\"\"\n",
    "\n",
    "    # Check if the length of the time series is sufficient for the given L_max\n",
    "    if len(time_series) < L_max + 1:\n",
    "        raise ValueError(f\"The length of the time series ({len(time_series)}) is insufficient for L_max ({L_max}). \"\n",
    "                         f\"The time series should have at least {L_max + 1} elements.\")\n",
    "    \n",
    "    serial_information = {}\n",
    "\n",
    "    for L in range(1, L_max + 1):\n",
    "        # Calculate empirical probabilities for sub-series of length L and L+1\n",
    "        empirical_probabilities_L = empirical_probability_subseries(time_series, L)\n",
    "        empirical_probabilities_L_plus_1 = empirical_probability_subseries(time_series, L + 1)\n",
    "\n",
    "        # Calculate entropies H^L and H^{L+1}\n",
    "        H_L = calculate_entropy(empirical_probabilities_L)\n",
    "        H_L_plus_1 = calculate_entropy(empirical_probabilities_L_plus_1)\n",
    "\n",
    "        # Calculate serial information I^{L+1}\n",
    "        serial_information[L] = 1 + H_L - H_L_plus_1\n",
    "\n",
    "    return serial_information"
   ]
  },
  {
   "cell_type": "markdown",
   "metadata": {},
   "source": [
    "2.d/ Write a function returning the asymptotic confidence bound for a zero serial information, using the Gamma distribution presented in the course: we recall that under the assumption of serial independence, $\\widehat{I^{L+1}_n}$ follows a gamma distribution $\\Gamma(k,\\theta)$ of shape parameter $k=2^{L-1}$ and scale parameter $\\theta=1/\\ln\\left(2\\right)n$. The arguments of the function are:\n",
    "  * $L$,\n",
    "  * $n$,\n",
    "  * a significance level $\\alpha$, equal by default to 0.95."
   ]
  },
  {
   "cell_type": "code",
   "execution_count": 16,
   "metadata": {},
   "outputs": [],
   "source": [
    "def asymptotic_confidence_bound(L, n, alpha=0.95):\n",
    "    \"\"\"\n",
    "    Calculate the asymptotic confidence bound for zero serial information using the Gamma distribution.\n",
    "\n",
    "    Parameters:\n",
    "    - L: The length of the sub-series.\n",
    "    - n: The number of observations.\n",
    "    - alpha: The significance level (default is 0.95).\n",
    "\n",
    "    Returns:\n",
    "    - The confidence bound for zero serial information.\n",
    "    \"\"\"\n",
    "    # Shape parameter\n",
    "    k = 2**(L - 1)\n",
    "\n",
    "    # Scale parameter\n",
    "    theta = 1 / (np.log(2) * n)\n",
    "\n",
    "    # Calculate the quantile of the Gamma distribution\n",
    "    confidence_bound = stats.gamma.ppf(alpha, a=k, scale=theta)\n",
    "\n",
    "    return confidence_bound"
   ]
  },
  {
   "cell_type": "markdown",
   "metadata": {},
   "source": [
    "2.e/ From your one-minute dataset of close prices of a stock, build a time series of daily price returns (between two consecutive ends of days). Apply the above functions to calculate the serial information of this time series. Plot this information as a function of $L$, with $L^{\\text{max}}=6$. Is there any statistically significant serial information?\n",
    "\n"
   ]
  },
  {
   "cell_type": "markdown",
   "metadata": {},
   "source": [
    "2.f/ Calculate the serial information of the time series of daily log-variations of one of the two Parkinson volatilities. Plot this information as a function of $L$, with $L^{\\text{max}}=6$. Is there any statistically significant serial information?\n"
   ]
  }
 ],
 "metadata": {
  "colab": {
   "provenance": [],
   "toc_visible": true
  },
  "kernelspec": {
   "display_name": "base",
   "language": "python",
   "name": "python3"
  },
  "language_info": {
   "codemirror_mode": {
    "name": "ipython",
    "version": 3
   },
   "file_extension": ".py",
   "mimetype": "text/x-python",
   "name": "python",
   "nbconvert_exporter": "python",
   "pygments_lexer": "ipython3",
   "version": "3.12.7"
  }
 },
 "nbformat": 4,
 "nbformat_minor": 0
}
